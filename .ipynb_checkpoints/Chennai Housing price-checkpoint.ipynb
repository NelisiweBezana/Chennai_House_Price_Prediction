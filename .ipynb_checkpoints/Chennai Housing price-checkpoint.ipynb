{
 "cells": [
  {
   "cell_type": "markdown",
   "metadata": {},
   "source": [
    "# QCTO - Workplace Module\n",
    "\n",
    "### Chennai Housing Sales Price Prediction\n",
    "#### Done By: Nelisiwe Bezana\n",
    "\n",
    "© ExploreAI 2024\n",
    "\n",
    "---\n",
    "\n",
    "## Table of Contents\n",
    "\n",
    "<a href=#BC> Background Context</a>\n",
    "\n",
    "<a href=#one>1. Importing Packages</a>\n",
    "\n",
    "<a href=#two>2. Data Collection and Description</a>\n",
    "\n",
    "<a href=#three>3. Loading Data </a>\n",
    "\n",
    "<a href=#four>4. Data Cleaning and Filtering</a>\n",
    "\n",
    "<a href=#five>5. Exploratory Data Analysis (EDA)</a>\n",
    "\n",
    "<a href=#six>6. Modeling </a>\n",
    "\n",
    "<a href=#seven>7. Evaluation and Validation</a>\n",
    "\n",
    "<a href=#eight>8. Final Model</a>\n",
    "\n",
    "<a href=#nine>9. Conclusion and Future Work</a>\n",
    "\n",
    "<a href=#ten>10. References</a>"
   ]
  },
  {
   "cell_type": "markdown",
   "metadata": {},
   "source": [
    "---\n",
    " <a id=\"BC\"></a>\n",
    "## **Background Context**\n",
    "<a href=#cont>Back to Table of Contents</a>\n",
    "\n",
    "### Project Overview:\n",
    "This project focuses on analyzing real estate data from the city of Chennai. The primary goal is to explore and understand the various factors influencing property prices and to develop predictive models that can accurately estimate property values based on these factors.\n",
    "\n",
    "### Problem Domain:\n",
    "In rapidly urbanizing cities like Chennai, understanding the dynamics of the real estate market is crucial for both buyers and sellers. Property prices are influenced by a multitude of factors, including location, size, number of rooms, proximity to amenities, and the overall quality of the property. Accurately predicting property prices can assist potential buyers in making informed decisions, while also aiding sellers in setting competitive prices.\n",
    "\n",
    "### Goals and Objectives:\n",
    "\n",
    "- To clean and preprocess the real estate dataset for accurate analysis.\n",
    "- To explore and analyze the key factors affecting property prices in Chennai.\n",
    "- To build and validate predictive models that can estimate property values based on these factors.\n",
    "- To provide insights that could help stakeholders in the real estate market make data-driven decisions.\n",
    "\n",
    "### Significance of the Project:\n",
    "The outcomes of this project have practical implications for the real estate market in Chennai. Accurate property price predictions can lead to better market efficiency, reduced uncertainty in transactions, and more informed decision-making for all parties involved. Additionally, this project can serve as a case study for similar analyses in other urban centers, contributing to the broader field of real estate analytics."
   ]
  },
  {
   "cell_type": "markdown",
   "metadata": {},
   "source": [
    "---\n",
    "<a href=#one></a>\n",
    "## **Importing Packages**\n",
    "<a href=#cont>Back to Table of Contents</a>\n",
    "\n",
    "* **Makdown**"
   ]
  },
  {
   "cell_type": "code",
   "execution_count": 1,
   "metadata": {},
   "outputs": [],
   "source": [
    "import pandas as pd"
   ]
  },
  {
   "cell_type": "markdown",
   "metadata": {},
   "source": [
    "---\n",
    "<a href=#two></a>\n",
    "## **Data Collection and Description**\n",
    "<a href=#cont>Back to Table of Contents</a>\n",
    "\n",
    "**Details:** The dataset used for this project was obtained from Kaggle, a popular platform for data science and machine learning resources. The data consists of real estate transactions in Chennai, India, and is intended for use in predicting housing sale prices.\n",
    "\n",
    "### Overview of the Dataset:\n",
    "\n",
    "- **Source:** The dataset is sourced from Kaggle, ensuring a reliable and well-documented collection.\n",
    "- **Size:** The dataset contains approximately 7,109 records and 22 fields, providing a comprehensive view of various attributes associated with housing sales.\n",
    "- **Scope:** The dataset covers properties located in different areas of Chennai, allowing for a diverse analysis of housing prices across the city.\n",
    "\n",
    "### Types of Data:\n",
    "**Numerical:** Attributes such as internal square footage (`INT_SQFT`), number of bedrooms (`N_BEDROOM`), number of bathrooms (`N_BATHROOM`), and sales price (`SALES_PRICE`).\n",
    "**Categorical:** Attributes like area (AREA), building type (`BUILDTYPE`), and sale condition (`SALE_COND`)."
   ]
  },
  {
   "cell_type": "markdown",
   "metadata": {},
   "source": [
    "---\n",
    "<a href=#three></a>\n",
    "## **Loading Data**\n",
    "<a href=#cont>Back to Table of Contents</a>\n",
    "\n",
    "**Markdown** "
   ]
  },
  {
   "cell_type": "code",
   "execution_count": 3,
   "metadata": {},
   "outputs": [
    {
     "name": "stdout",
     "output_type": "stream",
     "text": [
      "   PRT_ID        AREA  INT_SQFT   DATE_SALE  DIST_MAINROAD  N_BEDROOM  \\\n",
      "0  P03210  Karapakkam      1004  04-05-2011            131        1.0   \n",
      "1  P09411  Anna Nagar      1986  19-12-2006             26        2.0   \n",
      "2  P01812       Adyar       909  04-02-2012             70        1.0   \n",
      "3  P05346   Velachery      1855  13-03-2010             14        3.0   \n",
      "4  P06210  Karapakkam      1226  05-10-2009             84        1.0   \n",
      "\n",
      "   N_BATHROOM  N_ROOM SALE_COND PARK_FACIL  ... UTILITY_AVAIL  STREET MZZONE  \\\n",
      "0         1.0       3  AbNormal        Yes  ...        AllPub   Paved      A   \n",
      "1         1.0       5  AbNormal         No  ...        AllPub  Gravel     RH   \n",
      "2         1.0       3  AbNormal        Yes  ...           ELO  Gravel     RL   \n",
      "3         2.0       5    Family         No  ...       NoSewr    Paved      I   \n",
      "4         1.0       3  AbNormal        Yes  ...        AllPub  Gravel      C   \n",
      "\n",
      "  QS_ROOMS QS_BATHROOM  QS_BEDROOM  QS_OVERALL  REG_FEE  COMMIS  SALES_PRICE  \n",
      "0      4.0         3.9         4.9       4.330   380000  144400      7600000  \n",
      "1      4.9         4.2         2.5       3.765   760122  304049     21717770  \n",
      "2      4.1         3.8         2.2       3.090   421094   92114     13159200  \n",
      "3      4.7         3.9         3.6       4.010   356321   77042      9630290  \n",
      "4      3.0         2.5         4.1       3.290   237000   74063      7406250  \n",
      "\n",
      "[5 rows x 22 columns]\n"
     ]
    }
   ],
   "source": [
    "data = pd.read_csv('housing_price_data.csv')\n",
    "print(data.head())"
   ]
  },
  {
   "cell_type": "markdown",
   "metadata": {},
   "source": [
    "---\n",
    "<a href=#four></a>\n",
    "## **Data Cleaning and Filtering**\n",
    "<a href=#cont>Back to Table of Contents</a>\n",
    "\n",
    "* **Purpose:** Prepare the data for analysis by cleaning and filtering.\n",
    "* **Details:** Include steps for handling missing values, removing outliers, correcting errors, and possibly reducing the data (filtering based on certain criteria or features).\n",
    "---"
   ]
  },
  {
   "cell_type": "code",
   "execution_count": 4,
   "metadata": {},
   "outputs": [
    {
     "name": "stdout",
     "output_type": "stream",
     "text": [
      "Missing values in each column:\n",
      "PRT_ID            0\n",
      "AREA              0\n",
      "INT_SQFT          0\n",
      "DATE_SALE         0\n",
      "DIST_MAINROAD     0\n",
      "N_BEDROOM         1\n",
      "N_BATHROOM        5\n",
      "N_ROOM            0\n",
      "SALE_COND         0\n",
      "PARK_FACIL        0\n",
      "DATE_BUILD        0\n",
      "BUILDTYPE         0\n",
      "UTILITY_AVAIL     0\n",
      "STREET            0\n",
      "MZZONE            0\n",
      "QS_ROOMS          0\n",
      "QS_BATHROOM       0\n",
      "QS_BEDROOM        0\n",
      "QS_OVERALL       48\n",
      "REG_FEE           0\n",
      "COMMIS            0\n",
      "SALES_PRICE       0\n",
      "dtype: int64\n"
     ]
    }
   ],
   "source": [
    "# Checking for missing values in the dataset\n",
    "print(\"Missing values in each column:\")\n",
    "print(data.isnull().sum())"
   ]
  },
  {
   "cell_type": "code",
   "execution_count": 5,
   "metadata": {},
   "outputs": [],
   "source": [
    "# Handling missing values\n",
    "#Filling missing values with the median for numerical columns\n",
    "data['N_BEDROOM'].fillna(data['N_BEDROOM'].median(), inplace=True)\n",
    "data['N_BATHROOM'].fillna(data['N_BATHROOM'].median(), inplace=True)"
   ]
  },
  {
   "cell_type": "markdown",
   "metadata": {},
   "source": [
    "---\n",
    "<a href=#five></a>\n",
    "## **Exploratory Data Analysis (EDA)**\n",
    "<a href=#cont>Back to Table of Contents</a>\n",
    "\n",
    "* **Purpose:** Explore and visualize the data to uncover patterns, trends, and relationships.\n",
    "* **Details:** Use statistics and visualizations to explore the data. This may include histograms, box plots, scatter plots, and correlation matrices. Discuss any significant findings.\n",
    "---\n"
   ]
  },
  {
   "cell_type": "code",
   "execution_count": null,
   "metadata": {},
   "outputs": [],
   "source": [
    "#Please use code cells to code in and do not forget to comment your code."
   ]
  },
  {
   "cell_type": "markdown",
   "metadata": {},
   "source": [
    "---\n",
    "<a href=#six></a>\n",
    "## **Modeling**\n",
    "<a href=#cont>Back to Table of Contents</a>\n",
    "\n",
    "* **Purpose:** Develop and train predictive or statistical models.\n",
    "* **Details:** Describe the choice of models, feature selection and engineering processes, and show how the models are trained. Include code for setting up the models and explanations of the model parameters.\n",
    "---\n"
   ]
  },
  {
   "cell_type": "code",
   "execution_count": null,
   "metadata": {},
   "outputs": [],
   "source": [
    "#Please use code cells to code in and do not forget to comment your code."
   ]
  },
  {
   "cell_type": "markdown",
   "metadata": {},
   "source": [
    "---\n",
    "<a href=#seven></a>\n",
    "## **Evaluation and Validation**\n",
    "<a href=#cont>Back to Table of Contents</a>\n",
    "\n",
    "* **Purpose:** Evaluate and validate the effectiveness and accuracy of the models.\n",
    "* **Details:** Present metrics used to evaluate the models, such as accuracy, precision, recall, F1-score, etc. Discuss validation techniques employed, such as cross-validation or train/test split.\n",
    "---"
   ]
  },
  {
   "cell_type": "code",
   "execution_count": null,
   "metadata": {},
   "outputs": [],
   "source": [
    "#Please use code cells to code in and do not forget to comment your code."
   ]
  },
  {
   "cell_type": "markdown",
   "metadata": {},
   "source": [
    "---\n",
    "<a href=#eight></a>\n",
    "## **Final Model**\n",
    "<a href=#cont>Back to Table of Contents</a>\n",
    "\n",
    "* **Purpose:** Present the final model and its performance.\n",
    "* **Details:** Highlight the best-performing model and discuss its configuration, performance, and why it was chosen over others.\n",
    "---\n"
   ]
  },
  {
   "cell_type": "code",
   "execution_count": null,
   "metadata": {},
   "outputs": [],
   "source": [
    "#Please use code cells to code in and do not forget to comment your code."
   ]
  },
  {
   "cell_type": "markdown",
   "metadata": {},
   "source": [
    "---\n",
    "<a href=#nine></a>\n",
    "## **Conclusion and Future Work**\n",
    "<a href=#cont>Back to Table of Contents</a>\n",
    "\n",
    "* **Purpose:** Summarize the findings and discuss future directions.\n",
    "* **Details:** Conclude with a summary of the results, insights gained, limitations of the study, and suggestions for future projects or improvements in methodology or data collection.\n",
    "---\n"
   ]
  },
  {
   "cell_type": "code",
   "execution_count": null,
   "metadata": {},
   "outputs": [],
   "source": [
    "#Please use code cells to code in and do not forget to comment your code."
   ]
  },
  {
   "cell_type": "markdown",
   "metadata": {},
   "source": [
    "---\n",
    "<a href=#ten></a>\n",
    "## **References**\n",
    "<a href=#cont>Back to Table of Contents</a>\n",
    "\n",
    "* **Purpose:** Provide citations and sources of external content.\n",
    "* **Details:** List all the references and sources consulted during the project, including data sources, research papers, and documentation for tools and libraries used.\n",
    "---"
   ]
  },
  {
   "cell_type": "code",
   "execution_count": null,
   "metadata": {},
   "outputs": [],
   "source": [
    "#Please use code cells to code in and do not forget to comment your code."
   ]
  },
  {
   "cell_type": "markdown",
   "metadata": {},
   "source": [
    "## Additional Sections to Consider\n",
    "\n",
    "* ### Appendix: \n",
    "For any additional code, detailed tables, or extended data visualizations that are supplementary to the main content.\n",
    "\n",
    "* ### Contributors: \n",
    "If this is a group project, list the contributors and their roles or contributions to the project.\n"
   ]
  }
 ],
 "metadata": {
  "kernelspec": {
   "display_name": "Python 3 (ipykernel)",
   "language": "python",
   "name": "python3"
  },
  "language_info": {
   "codemirror_mode": {
    "name": "ipython",
    "version": 3
   },
   "file_extension": ".py",
   "mimetype": "text/x-python",
   "name": "python",
   "nbconvert_exporter": "python",
   "pygments_lexer": "ipython3",
   "version": "3.8.19"
  }
 },
 "nbformat": 4,
 "nbformat_minor": 4
}
